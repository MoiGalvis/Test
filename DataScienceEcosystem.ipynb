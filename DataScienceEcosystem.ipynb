{
 "cells": [
  {
   "cell_type": "markdown",
   "id": "f9d06745-828b-4db7-80e8-fc574dc4030f",
   "metadata": {},
   "source": [
    "# Data Science Tools and Ecosystem"
   ]
  },
  {
   "cell_type": "markdown",
   "id": "7d16bd6a-e4f0-40a2-a194-b7c4a494de7c",
   "metadata": {},
   "source": [
    "In this notebook, Data Science Tools and Ecosystem are summarized."
   ]
  },
  {
   "cell_type": "markdown",
   "id": "79f762b6-b62b-403b-bb42-ebc2f21da4d8",
   "metadata": {},
   "source": [
    "Some of the popular languages that Data Scientists use are:\n",
    "\n",
    "1. R\n",
    "2. Phyton\n",
    "3. SQL\n",
    "4. JAVA\n",
    "5. SCALA\n",
    "6. C\n",
    "7. JULIA"
   ]
  },
  {
   "cell_type": "markdown",
   "id": "0e26f25d-1ce2-4025-b985-955fb7f87050",
   "metadata": {},
   "source": [
    "Some of the commonly used libraries used by Data Scientists include:\n",
    "\n",
    "1. Pandas\n",
    "2. Plotly\n",
    "3. NumPy\n",
    "4. TensorFlow\n",
    "5. Matplotlib"
   ]
  },
  {
   "cell_type": "markdown",
   "id": "8aa9e855-0f09-4a02-a02c-0c159e547750",
   "metadata": {},
   "source": [
    "Data Science Tools\n",
    "RStudio\n",
    "TensorFlow\n",
    "Apache Spark"
   ]
  },
  {
   "cell_type": "markdown",
   "id": "69101998-a46d-48ef-8069-5fd612b2577d",
   "metadata": {},
   "source": [
    "### Below are a few examples of evaluating arithmetic expressions in Python"
   ]
  },
  {
   "cell_type": "code",
   "execution_count": 1,
   "id": "d95f5fd5-97ba-4e01-b3ae-76887833ab5f",
   "metadata": {},
   "outputs": [
    {
     "data": {
      "text/plain": [
       "17"
      ]
     },
     "execution_count": 1,
     "metadata": {},
     "output_type": "execute_result"
    }
   ],
   "source": [
    "(3*4)+5"
   ]
  },
  {
   "cell_type": "code",
   "execution_count": null,
   "id": "70cb4faa-817c-479b-85de-5e0c38443dab",
   "metadata": {},
   "outputs": [],
   "source": [
    "This a simple arithmetic expression to mutiply then add integers"
   ]
  },
  {
   "cell_type": "code",
   "execution_count": null,
   "id": "2f7d5dc0-8dbe-4239-bc79-922a14780de9",
   "metadata": {},
   "outputs": [],
   "source": [
    " This will convert 200 minutes to hours by diving by 60"
   ]
  },
  {
   "cell_type": "code",
   "execution_count": 3,
   "id": "b94cf5db-a9ef-46d4-9635-706b28409028",
   "metadata": {},
   "outputs": [
    {
     "data": {
      "text/plain": [
       "3.3333333333333335"
      ]
     },
     "execution_count": 3,
     "metadata": {},
     "output_type": "execute_result"
    }
   ],
   "source": [
    "200/60"
   ]
  },
  {
   "cell_type": "code",
   "execution_count": null,
   "id": "12828002-a814-4366-9a51-3c2e43ffc6b7",
   "metadata": {},
   "outputs": [],
   "source": [
    "This will convert 200 minutes to hours by diving by 60"
   ]
  },
  {
   "cell_type": "markdown",
   "id": "d7dcd40a-55f3-482e-a62d-ad4fdbd454a1",
   "metadata": {},
   "source": [
    "**Objectives**:\n",
    "- List popular data science languages\n",
    "- Execute simple arithmetic expression to mutiply\n",
    "- List development environment open source tools\n",
    "- List data science languages\n"
   ]
  },
  {
   "cell_type": "markdown",
   "id": "a2cc559e-2e5d-48c3-b05d-aba444c74627",
   "metadata": {},
   "source": [
    "## Author\n",
    "Moises Galvis"
   ]
  }
 ],
 "metadata": {
  "kernelspec": {
   "display_name": "Python 3 (ipykernel)",
   "language": "python",
   "name": "python3"
  },
  "language_info": {
   "codemirror_mode": {
    "name": "ipython",
    "version": 3
   },
   "file_extension": ".py",
   "mimetype": "text/x-python",
   "name": "python",
   "nbconvert_exporter": "python",
   "pygments_lexer": "ipython3",
   "version": "3.12.4"
  }
 },
 "nbformat": 4,
 "nbformat_minor": 5
}
